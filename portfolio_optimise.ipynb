{
  "nbformat": 4,
  "nbformat_minor": 0,
  "metadata": {
    "colab": {
      "name": "portfolio optimise",
      "provenance": [],
      "collapsed_sections": [],
      "include_colab_link": true
    },
    "kernelspec": {
      "display_name": "Python 3",
      "language": "python",
      "name": "python3"
    },
    "language_info": {
      "codemirror_mode": {
        "name": "ipython",
        "version": 3
      },
      "file_extension": ".py",
      "mimetype": "text/x-python",
      "name": "python",
      "nbconvert_exporter": "python",
      "pygments_lexer": "ipython3",
      "version": "3.7.3"
    }
  },
  "cells": [
    {
      "cell_type": "markdown",
      "metadata": {
        "id": "view-in-github",
        "colab_type": "text"
      },
      "source": [
        "<a href=\"https://colab.research.google.com/github/ryar001/tester/blob/master/portfolio_optimise.ipynb\" target=\"_parent\"><img src=\"https://colab.research.google.com/assets/colab-badge.svg\" alt=\"Open In Colab\"/></a>"
      ]
    },
    {
      "cell_type": "markdown",
      "metadata": {
        "id": "hK46sjxwH53J",
        "colab_type": "text"
      },
      "source": [
        "# Mounting and setting directory\n"
      ]
    },
    {
      "cell_type": "code",
      "metadata": {
        "id": "uqYiXz0KC9Sr",
        "colab_type": "code",
        "colab": {
          "base_uri": "https://localhost:8080/",
          "height": 71
        },
        "outputId": "4837ac24-5cbb-45ce-bcb3-66f5155055d4"
      },
      "source": [
        "# mounting the google drive \n",
        "# set the dirrectory to the location i wanted\n",
        "# relative path so shld work\n",
        "# since the cwd is now set to the this folder, we can import item from there\n",
        "from google.colab import drive\n",
        "drive.mount('/content/drive')\n",
        "%cd './drive/My Drive/Colab Notebooks'\n",
        "\n",
        "\n",
        "# add a path to '/content/drive/My Drive/My python files/lib'\n",
        "# as i store the self use py files\n",
        "import sys\n",
        "sys.path.append(str(Path(Path.cwd().parent,'My python files/lib')))"
      ],
      "execution_count": null,
      "outputs": [
        {
          "output_type": "stream",
          "text": [
            "Drive already mounted at /content/drive; to attempt to forcibly remount, call drive.mount(\"/content/drive\", force_remount=True).\n",
            "/content/drive/My Drive/Colab Notebooks\n"
          ],
          "name": "stdout"
        }
      ]
    },
    {
      "cell_type": "code",
      "metadata": {
        "colab_type": "code",
        "id": "imjPaeRfom7f",
        "scrolled": false,
        "colab": {
          "base_uri": "https://localhost:8080/",
          "height": 119
        },
        "outputId": "8adac5a1-b039-4d5b-f89a-cd6b990414ba"
      },
      "source": [
        "#cloning of desired git to the CWD\n",
        "!git clone https://github.com/ryar001/tester.git\n"
      ],
      "execution_count": null,
      "outputs": [
        {
          "output_type": "stream",
          "text": [
            "Cloning into 'tester'...\n",
            "remote: Enumerating objects: 6, done.\u001b[K\n",
            "remote: Counting objects: 100% (6/6), done.\u001b[K\n",
            "remote: Compressing objects: 100% (4/4), done.\u001b[K\n",
            "remote: Total 6 (delta 0), reused 0 (delta 0), pack-reused 0\u001b[K\n",
            "Unpacking objects: 100% (6/6), done.\n"
          ],
          "name": "stdout"
        }
      ]
    },
    {
      "cell_type": "code",
      "metadata": {
        "id": "OW6W3ly7KXzp",
        "colab_type": "code",
        "colab": {
          "base_uri": "https://localhost:8080/",
          "height": 34
        },
        "outputId": "acdf73ab-a21a-465e-f347-a724fd38362b"
      },
      "source": [
        "from pathlib import Path\n",
        "Path(Path.cwd().parent,'My python files/lib')"
      ],
      "execution_count": null,
      "outputs": [
        {
          "output_type": "execute_result",
          "data": {
            "text/plain": [
              "PosixPath('/content/drive/My Drive/My python files/lib')"
            ]
          },
          "metadata": {
            "tags": []
          },
          "execution_count": 32
        }
      ]
    },
    {
      "cell_type": "markdown",
      "metadata": {
        "id": "aXleWG31OV1y",
        "colab_type": "text"
      },
      "source": [
        "# Check dir \n"
      ]
    },
    {
      "cell_type": "code",
      "metadata": {
        "id": "8zCLWl5sMvJC",
        "colab_type": "code",
        "colab": {
          "base_uri": "https://localhost:8080/",
          "height": 51
        },
        "outputId": "8b972b58-64aa-46f5-fc77-713aaa97140b"
      },
      "source": [
        "# check cwd dir\n",
        "!ls"
      ],
      "execution_count": null,
      "outputs": [
        {
          "output_type": "stream",
          "text": [
            " asd.py       'Copy of Snippets: Importing libraries'   __pycache__\n",
            " Company_csv  'portfolio optimise.ipynb'\t        tester\n"
          ],
          "name": "stdout"
        }
      ]
    },
    {
      "cell_type": "code",
      "metadata": {
        "colab_type": "code",
        "id": "a7bbPxy4QNpm",
        "colab": {
          "base_uri": "https://localhost:8080/",
          "height": 34
        },
        "outputId": "e74cdf2c-cc78-4cc5-b254-6cee69f74ea6"
      },
      "source": [
        "# check cwd\n",
        "import pathlib\n",
        "from pathlib import Path\n"
      ],
      "execution_count": null,
      "outputs": [
        {
          "output_type": "execute_result",
          "data": {
            "text/plain": [
              "PosixPath('/content/drive/My Drive/Colab Notebooks')"
            ]
          },
          "metadata": {
            "tags": []
          },
          "execution_count": 15
        }
      ]
    },
    {
      "cell_type": "code",
      "metadata": {
        "id": "lrFqsGTZIsTi",
        "colab_type": "code",
        "colab": {
          "base_uri": "https://localhost:8080/",
          "height": 221
        },
        "outputId": "6c867860-aa95-42ca-c73f-2479e7520904"
      },
      "source": [
        "# check sys path,the dir which py look for modules\n",
        "sys.path"
      ],
      "execution_count": null,
      "outputs": [
        {
          "output_type": "execute_result",
          "data": {
            "text/plain": [
              "['./content/drive/My Drive/My python files/lib',\n",
              " '',\n",
              " '/env/python',\n",
              " '/usr/lib/python36.zip',\n",
              " '/usr/lib/python3.6',\n",
              " '/usr/lib/python3.6/lib-dynload',\n",
              " '/usr/local/lib/python3.6/dist-packages',\n",
              " '/usr/lib/python3/dist-packages',\n",
              " '/usr/local/lib/python3.6/dist-packages/IPython/extensions',\n",
              " '/root/.ipython',\n",
              " './content/drive/My Drive/My python files/lib',\n",
              " '/content/drive/My Drive/My python files/lib']"
            ]
          },
          "metadata": {
            "tags": []
          },
          "execution_count": 42
        }
      ]
    },
    {
      "cell_type": "code",
      "metadata": {
        "id": "-DLbbNIQHdE9",
        "colab_type": "code",
        "colab": {}
      },
      "source": [
        "# test if it works\n",
        "import stock_get"
      ],
      "execution_count": null,
      "outputs": []
    },
    {
      "cell_type": "markdown",
      "metadata": {
        "id": "cHso1FuOGPw0",
        "colab_type": "text"
      },
      "source": [
        "# Imports\n"
      ]
    },
    {
      "cell_type": "code",
      "metadata": {
        "colab_type": "code",
        "id": "hJJN1clEfE5A",
        "colab": {}
      },
      "source": [
        "from pandas_datareader import data as web\n",
        "import pandas as pd\n",
        "import numpy as np\n",
        "from datetime import datetime\n",
        "import matplotlib.pyplot as plt\n",
        "plt.style.use('fivethirtyeight')\n"
      ],
      "execution_count": null,
      "outputs": []
    },
    {
      "cell_type": "code",
      "metadata": {
        "id": "lMBP8k9-QPGj",
        "colab_type": "code",
        "colab": {}
      },
      "source": [
        ""
      ],
      "execution_count": null,
      "outputs": []
    },
    {
      "cell_type": "markdown",
      "metadata": {
        "id": "GflosqVrQbRf",
        "colab_type": "text"
      },
      "source": [
        ""
      ]
    },
    {
      "cell_type": "markdown",
      "metadata": {
        "id": "ghk2eSazQ5KG",
        "colab_type": "text"
      },
      "source": [
        "# make portfolio"
      ]
    },
    {
      "cell_type": "code",
      "metadata": {
        "id": "ozogrFIeQ9TA",
        "colab_type": "code",
        "colab": {}
      },
      "source": [
        "# FAANG stocks\n",
        "assets=['FB','AAPL','AMZN','GOOGL','NFLX']\n"
      ],
      "execution_count": null,
      "outputs": []
    },
    {
      "cell_type": "code",
      "metadata": {
        "id": "PeTZRy_qRMsr",
        "colab_type": "code",
        "colab": {}
      },
      "source": [
        "#ASSIGN weights\n",
        "weights=np.full(5,0.2)"
      ],
      "execution_count": null,
      "outputs": []
    },
    {
      "cell_type": "code",
      "metadata": {
        "id": "0kekdkDCReUQ",
        "colab_type": "code",
        "colab": {
          "base_uri": "https://localhost:8080/",
          "height": 34
        },
        "outputId": "29189f65-0e3b-4eba-b2a7-d1ac4d997c51"
      },
      "source": [
        "weights"
      ],
      "execution_count": null,
      "outputs": [
        {
          "output_type": "execute_result",
          "data": {
            "text/plain": [
              "array([0.2, 0.2, 0.2, 0.2, 0.2])"
            ]
          },
          "metadata": {
            "tags": []
          },
          "execution_count": 50
        }
      ]
    },
    {
      "cell_type": "code",
      "metadata": {
        "id": "yZFk9GevRgP4",
        "colab_type": "code",
        "colab": {}
      },
      "source": [
        "#get start date\n",
        "startDate='2013-01-01'\n"
      ],
      "execution_count": null,
      "outputs": []
    },
    {
      "cell_type": "code",
      "metadata": {
        "id": "jndEdotgRr_r",
        "colab_type": "code",
        "colab": {}
      },
      "source": [
        "# end date\n",
        "today=datetime.today().strftime('%Y-%m-%d')"
      ],
      "execution_count": null,
      "outputs": []
    },
    {
      "cell_type": "code",
      "metadata": {
        "id": "sbFH_wpER5Md",
        "colab_type": "code",
        "colab": {}
      },
      "source": [
        "#create df to store close price\n",
        "df =pd.DataFrame()\n",
        "for stock in assets:\n",
        "  df[stock]=web.DataReader(stock,start=startDate,end=today,data_source= \"yahoo\")['Adj Close']"
      ],
      "execution_count": null,
      "outputs": []
    },
    {
      "cell_type": "code",
      "metadata": {
        "id": "Sh-LBbDRSNf9",
        "colab_type": "code",
        "colab": {}
      },
      "source": [
        "df"
      ],
      "execution_count": null,
      "outputs": []
    },
    {
      "cell_type": "code",
      "metadata": {
        "id": "XgKG1LOPSmSw",
        "colab_type": "code",
        "colab": {
          "base_uri": "https://localhost:8080/",
          "height": 299
        },
        "outputId": "5ea9845b-2be4-4dc6-d483-830a1b04204c"
      },
      "source": [
        "#show stock\n",
        "df.plot()\n",
        "plt.xlabel(\"date\")\n",
        "plt.ylabel('USD')"
      ],
      "execution_count": null,
      "outputs": [
        {
          "output_type": "execute_result",
          "data": {
            "text/plain": [
              "Text(0, 0.5, 'USD')"
            ]
          },
          "metadata": {
            "tags": []
          },
          "execution_count": 64
        },
        {
          "output_type": "display_data",
          "data": {
            "image/png": "[encoded data removed]",
            "text/plain": [
              "<Figure size 432x288 with 1 Axes>"
            ]
          },
          "metadata": {
            "tags": []
          }
        }
      ]
    },
    {
      "cell_type": "code",
      "metadata": {
        "id": "0Gom2gK0Svl3",
        "colab_type": "code",
        "colab": {}
      },
      "source": [
        "returns=df.pct_change()"
      ],
      "execution_count": 65,
      "outputs": []
    },
    {
      "cell_type": "code",
      "metadata": {
        "id": "f0hwZ1uEsCU6",
        "colab_type": "code",
        "colab": {
          "base_uri": "https://localhost:8080/",
          "height": 204
        },
        "outputId": "d27355f4-c9ec-4a23-8527-13c16d518df3"
      },
      "source": [
        "# create annualise covariance matrix\n",
        "# The diaganal shos variance, the variance sq^2 == S.D == risk\n",
        "# +ve covariance show the 2 assest move together\n",
        "# -ve is inverse relation \n",
        "covMatrixAnnual=returns.cov()*252\n",
        "covMatrixAnnual"
      ],
      "execution_count": 67,
      "outputs": [
        {
          "output_type": "execute_result",
          "data": {
            "text/html": [
              "<div>\n",
              "<style scoped>\n",
              "    .dataframe tbody tr th:only-of-type {\n",
              "        vertical-align: middle;\n",
              "    }\n",
              "\n",
              "    .dataframe tbody tr th {\n",
              "        vertical-align: top;\n",
              "    }\n",
              "\n",
              "    .dataframe thead th {\n",
              "        text-align: right;\n",
              "    }\n",
              "</style>\n",
              "<table border=\"1\" class=\"dataframe\">\n",
              "  <thead>\n",
              "    <tr style=\"text-align: right;\">\n",
              "      <th></th>\n",
              "      <th>FB</th>\n",
              "      <th>AAPL</th>\n",
              "      <th>AMZN</th>\n",
              "      <th>GOOGL</th>\n",
              "      <th>NFLX</th>\n",
              "    </tr>\n",
              "  </thead>\n",
              "  <tbody>\n",
              "    <tr>\n",
              "      <th>FB</th>\n",
              "      <td>0.116732</td>\n",
              "      <td>0.041216</td>\n",
              "      <td>0.051981</td>\n",
              "      <td>0.049372</td>\n",
              "      <td>0.054305</td>\n",
              "    </tr>\n",
              "    <tr>\n",
              "      <th>AAPL</th>\n",
              "      <td>0.041216</td>\n",
              "      <td>0.076643</td>\n",
              "      <td>0.035753</td>\n",
              "      <td>0.037479</td>\n",
              "      <td>0.032070</td>\n",
              "    </tr>\n",
              "    <tr>\n",
              "      <th>AMZN</th>\n",
              "      <td>0.051981</td>\n",
              "      <td>0.035753</td>\n",
              "      <td>0.091320</td>\n",
              "      <td>0.046332</td>\n",
              "      <td>0.060950</td>\n",
              "    </tr>\n",
              "    <tr>\n",
              "      <th>GOOGL</th>\n",
              "      <td>0.049372</td>\n",
              "      <td>0.037479</td>\n",
              "      <td>0.046332</td>\n",
              "      <td>0.064656</td>\n",
              "      <td>0.048468</td>\n",
              "    </tr>\n",
              "    <tr>\n",
              "      <th>NFLX</th>\n",
              "      <td>0.054305</td>\n",
              "      <td>0.032070</td>\n",
              "      <td>0.060950</td>\n",
              "      <td>0.048468</td>\n",
              "      <td>0.211998</td>\n",
              "    </tr>\n",
              "  </tbody>\n",
              "</table>\n",
              "</div>"
            ],
            "text/plain": [
              "             FB      AAPL      AMZN     GOOGL      NFLX\n",
              "FB     0.116732  0.041216  0.051981  0.049372  0.054305\n",
              "AAPL   0.041216  0.076643  0.035753  0.037479  0.032070\n",
              "AMZN   0.051981  0.035753  0.091320  0.046332  0.060950\n",
              "GOOGL  0.049372  0.037479  0.046332  0.064656  0.048468\n",
              "NFLX   0.054305  0.032070  0.060950  0.048468  0.211998"
            ]
          },
          "metadata": {
            "tags": []
          },
          "execution_count": 67
        }
      ]
    },
    {
      "cell_type": "code",
      "metadata": {
        "id": "dp-JwtXGxWX3",
        "colab_type": "code",
        "colab": {}
      },
      "source": [
        "w"
      ],
      "execution_count": null,
      "outputs": []
    },
    {
      "cell_type": "code",
      "metadata": {
        "id": "9wE7f8gkxWEO",
        "colab_type": "code",
        "colab": {
          "base_uri": "https://localhost:8080/",
          "height": 34
        },
        "outputId": "e77c02c5-fcb6-4855-bd55-56934962ba0d"
      },
      "source": [
        "weights"
      ],
      "execution_count": 70,
      "outputs": [
        {
          "output_type": "execute_result",
          "data": {
            "text/plain": [
              "array([0.2, 0.2, 0.2, 0.2, 0.2])"
            ]
          },
          "metadata": {
            "tags": []
          },
          "execution_count": 70
        }
      ]
    },
    {
      "cell_type": "code",
      "metadata": {
        "id": "hqv0rnsGsUSa",
        "colab_type": "code",
        "colab": {
          "base_uri": "https://localhost:8080/",
          "height": 34
        },
        "outputId": "1e5ec002-cfc8-49ec-926f-3a6356862ef4"
      },
      "source": [
        "# cal portfolio variance\n",
        "portVariance=np.dot(weights.T,np.dot(covMatrixAnnual,weights))\n",
        "portVariance"
      ],
      "execution_count": 69,
      "outputs": [
        {
          "output_type": "execute_result",
          "data": {
            "text/plain": [
              "0.059088143839763504"
            ]
          },
          "metadata": {
            "tags": []
          },
          "execution_count": 69
        }
      ]
    },
    {
      "cell_type": "code",
      "metadata": {
        "id": "1tHy6gRltT7l",
        "colab_type": "code",
        "colab": {
          "base_uri": "https://localhost:8080/",
          "height": 34
        },
        "outputId": "11856164-0774-4126-efb6-d22431eec035"
      },
      "source": [
        "# Sd is the sqrt of the variance\n",
        "# sd is the risk too\n",
        "portSD=np.sqrt(portVariance)\n",
        "portSD"
      ],
      "execution_count": 77,
      "outputs": [
        {
          "output_type": "execute_result",
          "data": {
            "text/plain": [
              "0.24308052953653755"
            ]
          },
          "metadata": {
            "tags": []
          },
          "execution_count": 77
        }
      ]
    },
    {
      "cell_type": "code",
      "metadata": {
        "id": "cQRBfgL12qe3",
        "colab_type": "code",
        "colab": {
          "base_uri": "https://localhost:8080/",
          "height": 119
        },
        "outputId": "552d2ab0-a0f1-49c7-a4e6-969ecef04b90"
      },
      "source": [
        "returns.mean()"
      ],
      "execution_count": 79,
      "outputs": [
        {
          "output_type": "execute_result",
          "data": {
            "text/plain": [
              "FB       0.001324\n",
              "AAPL     0.001036\n",
              "AMZN     0.001424\n",
              "GOOGL    0.000844\n",
              "NFLX     0.002278\n",
              "dtype: float64"
            ]
          },
          "metadata": {
            "tags": []
          },
          "execution_count": 79
        }
      ]
    },
    {
      "cell_type": "code",
      "metadata": {
        "id": "wyU9-HPg2EaR",
        "colab_type": "code",
        "colab": {}
      },
      "source": [
        "#cal annual port returns\n",
        "# we get the average returns daily of each share \n",
        "# then we multiple it by its weights, * 252 trading days\n",
        "portfolioSimpleAnnualReturn=np.sum(returns.mean()*weights)*252"
      ],
      "execution_count": 80,
      "outputs": []
    },
    {
      "cell_type": "code",
      "metadata": {
        "id": "ggzJ8ZxO2SEc",
        "colab_type": "code",
        "colab": {
          "base_uri": "https://localhost:8080/",
          "height": 34
        },
        "outputId": "74b12cb0-c3b6-4dc4-8a2a-c969fcd96cdd"
      },
      "source": [
        "portfolioSimpleAnnualReturn"
      ],
      "execution_count": 82,
      "outputs": [
        {
          "output_type": "execute_result",
          "data": {
            "text/plain": [
              "0.348098334690012"
            ]
          },
          "metadata": {
            "tags": []
          },
          "execution_count": 82
        }
      ]
    },
    {
      "cell_type": "code",
      "metadata": {
        "id": "91er3S7_2YfX",
        "colab_type": "code",
        "colab": {}
      },
      "source": [
        "#show the expected annual return, volatility, variance\n",
        "percent_Var=str(round(portVariance,2)*100)+\"%\"\n",
        "percent_Vols=str(round(portSD,2)*100)+'%'\n",
        "percent_Rets=str(round(portfolioSimpleAnnualReturn,2)*100)+'%'"
      ],
      "execution_count": 84,
      "outputs": []
    },
    {
      "cell_type": "code",
      "metadata": {
        "id": "21W7aBAy3lfx",
        "colab_type": "code",
        "colab": {
          "base_uri": "https://localhost:8080/",
          "height": 68
        },
        "outputId": "83b0ee31-53a5-4854-b0dd-bc4b771aaf61"
      },
      "source": [
        " print('expected ret: ',percent_Rets)\n",
        " print('expected_vols: ',percent_Vols)\n",
        " print('expected Var: ',percent_Var)"
      ],
      "execution_count": 85,
      "outputs": [
        {
          "output_type": "stream",
          "text": [
            "expected ret:  35.0%\n",
            "expected_vols:  24.0%\n",
            "expected Var:  6.0%\n"
          ],
          "name": "stdout"
        }
      ]
    },
    {
      "cell_type": "code",
      "metadata": {
        "id": "9jiKdiUl4D3x",
        "colab_type": "code",
        "colab": {}
      },
      "source": [
        ""
      ],
      "execution_count": null,
      "outputs": []
    },
    {
      "cell_type": "markdown",
      "metadata": {
        "id": "SZxjSx6J4Kca",
        "colab_type": "text"
      },
      "source": [
        "# Portfolio optimise\n"
      ]
    },
    {
      "cell_type": "code",
      "metadata": {
        "id": "8RBuZW-e4OcB",
        "colab_type": "code",
        "colab": {
          "base_uri": "https://localhost:8080/",
          "height": 343
        },
        "outputId": "94890df1-e5d9-451c-ed05-c691052d4c73"
      },
      "source": [
        "!pip install PyPortfolioOpt"
      ],
      "execution_count": 86,
      "outputs": [
        {
          "output_type": "stream",
          "text": [
            "Collecting PyPortfolioOpt\n",
            "\u001b[?25l  Downloading https://files.pythonhosted.org/packages/8f/f5/4571e069d4870ede26995e191f2ef341329f881d7086cebea504141c79a8/PyPortfolioOpt-1.2.3-py3-none-any.whl (48kB)\n",
            "\r\u001b[K     |██████▉                         | 10kB 20.2MB/s eta 0:00:01\r\u001b[K     |█████████████▋                  | 20kB 1.7MB/s eta 0:00:01\r\u001b[K     |████████████████████▍           | 30kB 2.1MB/s eta 0:00:01\r\u001b[K     |███████████████████████████▏    | 40kB 2.4MB/s eta 0:00:01\r\u001b[K     |████████████████████████████████| 51kB 1.5MB/s \n",
            "\u001b[?25hRequirement already satisfied: numpy<2.0,>=1.12 in /usr/local/lib/python3.6/dist-packages (from PyPortfolioOpt) (1.18.5)\n",
            "Requirement already satisfied: scipy<2.0,>=1.3 in /usr/local/lib/python3.6/dist-packages (from PyPortfolioOpt) (1.4.1)\n",
            "Requirement already satisfied: cvxpy<1.1,>=1.0 in /usr/local/lib/python3.6/dist-packages (from PyPortfolioOpt) (1.0.31)\n",
            "Requirement already satisfied: pandas>=0.19 in /usr/local/lib/python3.6/dist-packages (from PyPortfolioOpt) (1.0.5)\n",
            "Requirement already satisfied: scs>=1.1.3 in /usr/local/lib/python3.6/dist-packages (from cvxpy<1.1,>=1.0->PyPortfolioOpt) (2.1.2)\n",
            "Requirement already satisfied: ecos>=2 in /usr/local/lib/python3.6/dist-packages (from cvxpy<1.1,>=1.0->PyPortfolioOpt) (2.0.7.post1)\n",
            "Requirement already satisfied: osqp>=0.4.1 in /usr/local/lib/python3.6/dist-packages (from cvxpy<1.1,>=1.0->PyPortfolioOpt) (0.6.1)\n",
            "Requirement already satisfied: multiprocess in /usr/local/lib/python3.6/dist-packages (from cvxpy<1.1,>=1.0->PyPortfolioOpt) (0.70.10)\n",
            "Requirement already satisfied: pytz>=2017.2 in /usr/local/lib/python3.6/dist-packages (from pandas>=0.19->PyPortfolioOpt) (2018.9)\n",
            "Requirement already satisfied: python-dateutil>=2.6.1 in /usr/local/lib/python3.6/dist-packages (from pandas>=0.19->PyPortfolioOpt) (2.8.1)\n",
            "Requirement already satisfied: future in /usr/local/lib/python3.6/dist-packages (from osqp>=0.4.1->cvxpy<1.1,>=1.0->PyPortfolioOpt) (0.16.0)\n",
            "Requirement already satisfied: dill>=0.3.2 in /usr/local/lib/python3.6/dist-packages (from multiprocess->cvxpy<1.1,>=1.0->PyPortfolioOpt) (0.3.2)\n",
            "Requirement already satisfied: six>=1.5 in /usr/local/lib/python3.6/dist-packages (from python-dateutil>=2.6.1->pandas>=0.19->PyPortfolioOpt) (1.12.0)\n",
            "Installing collected packages: PyPortfolioOpt\n",
            "Successfully installed PyPortfolioOpt-1.2.3\n"
          ],
          "name": "stdout"
        }
      ]
    },
    {
      "cell_type": "code",
      "metadata": {
        "id": "9WN6MWqj4RlK",
        "colab_type": "code",
        "colab": {}
      },
      "source": [
        "from pypfopt.efficient_frontier import EfficientFrontier\n",
        "from pypfopt import risk_models\n",
        "from pypfopt import expected_returns"
      ],
      "execution_count": 89,
      "outputs": []
    },
    {
      "cell_type": "code",
      "metadata": {
        "id": "XvXr27EC4YEV",
        "colab_type": "code",
        "colab": {}
      },
      "source": [
        "# cal expt rets and annual sample cov \n",
        "# mu == cal annualise mean returns from daily\n",
        "mu =expected_returns.mean_historical_return(df)\n",
        "S=risk_models.sample_cov(df)"
      ],
      "execution_count": 92,
      "outputs": []
    },
    {
      "cell_type": "code",
      "metadata": {
        "id": "UlGo1ppR5MYf",
        "colab_type": "code",
        "colab": {
          "base_uri": "https://localhost:8080/",
          "height": 119
        },
        "outputId": "51cefcfb-08c7-4a26-8cc4-ab5ebe0dabe6"
      },
      "source": [
        "# opti for max sharpe\n",
        "# EfficientFrontier will optimise base on various diff method\n",
        "# we now try max the sharpe\n",
        "ef=EfficientFrontier(mu,S)\n",
        "weights=ef.max_sharpe()\n",
        "\n",
        "#this will remove any weights below cutoff e.g 0.0001\n",
        "# then roudn the rest\n",
        "cleaned_weights = ef.clean_weights()\n",
        "print(cleaned_weights,'\\n')\n",
        "\n",
        "#portfolio perf\n",
        "# verbose default false\n",
        "# verbose true to print immediately\n",
        "x=ef.portfolio_performance(verbose=True)\n",
        "\n",
        "print(\"if verbose == False: \",x)"
      ],
      "execution_count": 103,
      "outputs": [
        {
          "output_type": "stream",
          "text": [
            "OrderedDict([('FB', 0.12722), ('AAPL', 0.23649), ('AMZN', 0.30564), ('GOOGL', 0.0), ('NFLX', 0.33065)]) \n",
            "\n",
            "Expected annual return: 40.4%\n",
            "Annual volatility: 26.7%\n",
            "Sharpe Ratio: 1.44\n",
            "if verbose == False:  (0.4037190464001343, 0.26735557705172874, 1.4352386085661912)\n"
          ],
          "name": "stdout"
        }
      ]
    },
    {
      "cell_type": "code",
      "metadata": {
        "id": "TS74xKWy6Gg9",
        "colab_type": "code",
        "colab": {
          "base_uri": "https://localhost:8080/",
          "height": 68
        },
        "outputId": "f6a49c0d-1323-4be7-ad10-dfe01ccb1ae1"
      },
      "source": [
        " print('expected ret: ',percent_Rets)\n",
        " print('expected vols: ',percent_Vols)\n",
        " print('expected Var: ',percent_Var)\n",
        " #print('expected sharpe: ',portfolioSimpleAnnualReturn/portSD^2)"
      ],
      "execution_count": 108,
      "outputs": [
        {
          "output_type": "stream",
          "text": [
            "expected ret:  35.0%\n",
            "expected vols:  24.0%\n",
            "expected Var:  6.0%\n"
          ],
          "name": "stdout"
        }
      ]
    },
    {
      "cell_type": "code",
      "metadata": {
        "id": "FRO_KLox6gkk",
        "colab_type": "code",
        "colab": {}
      },
      "source": [
        ""
      ],
      "execution_count": null,
      "outputs": []
    },
    {
      "cell_type": "markdown",
      "metadata": {
        "id": "4XGUzfdTCBHu",
        "colab_type": "text"
      },
      "source": [
        "# Discrete alloc"
      ]
    },
    {
      "cell_type": "markdown",
      "metadata": {
        "id": "HJ9L5jct7Yvp",
        "colab_type": "text"
      },
      "source": [
        ""
      ]
    },
    {
      "cell_type": "code",
      "metadata": {
        "id": "768k_zVqCGbm",
        "colab_type": "code",
        "colab": {}
      },
      "source": [
        "from pypfopt.discrete_allocation import DiscreteAllocation, get_latest_prices\n",
        "\n",
        "latest_prices=get_latest_prices(df)\n",
        "weights=cleaned_weights\n",
        "da=DiscreteAllocation(weights,latest_prices,  total_portfolio_value=10000)\n",
        "allocation,leftover=da.lp_portfolio()\n"
      ],
      "execution_count": 109,
      "outputs": []
    },
    {
      "cell_type": "code",
      "metadata": {
        "id": "VIdKKD3fCyrn",
        "colab_type": "code",
        "colab": {
          "base_uri": "https://localhost:8080/",
          "height": 51
        },
        "outputId": "a8e91429-90b6-416c-b626-3d222af13dcd"
      },
      "source": [
        "print('Discrete alloc: ', allocation)\n",
        "print('funds remainom: ${:.2f}'.format(leftover))"
      ],
      "execution_count": 114,
      "outputs": [
        {
          "output_type": "stream",
          "text": [
            "Discrete alloc:  {'FB': 5.0, 'AAPL': 7.0, 'AMZN': 1.0, 'NFLX': 8.0}\n",
            "funds remainom: $106.04\n"
          ],
          "name": "stdout"
        }
      ]
    },
    {
      "cell_type": "code",
      "metadata": {
        "id": "vKcJM7QaDA1J",
        "colab_type": "code",
        "colab": {}
      },
      "source": [
        ""
      ],
      "execution_count": null,
      "outputs": []
    }
  ]
}