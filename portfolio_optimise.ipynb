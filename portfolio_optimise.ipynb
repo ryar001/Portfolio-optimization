{
  "nbformat": 4,
  "nbformat_minor": 0,
  "metadata": {
    "colab": {
      "name": "portfolio optimise",
      "provenance": [],
      "collapsed_sections": [],
      "include_colab_link": true
    },
    "kernelspec": {
      "display_name": "Python 3",
      "language": "python",
      "name": "python3"
    },
    "language_info": {
      "codemirror_mode": {
        "name": "ipython",
        "version": 3
      },
      "file_extension": ".py",
      "mimetype": "text/x-python",
      "name": "python",
      "nbconvert_exporter": "python",
      "pygments_lexer": "ipython3",
      "version": "3.7.3"
    }
  },
  "cells": [
    {
      "cell_type": "markdown",
      "metadata": {
        "id": "view-in-github",
        "colab_type": "text"
      },
      "source": [
        "<a href=\"https://colab.research.google.com/github/ryar001/tester/blob/master/portfolio_optimise.ipynb\" target=\"_parent\"><img src=\"https://colab.research.google.com/assets/colab-badge.svg\" alt=\"Open In Colab\"/></a>"
      ]
    },
    {
      "cell_type": "markdown",
      "metadata": {
        "id": "hK46sjxwH53J",
        "colab_type": "text"
      },
      "source": [
        "# Mounting and setting directory\n"
      ]
    },
    {
      "cell_type": "code",
      "metadata": {
        "id": "uqYiXz0KC9Sr",
        "colab_type": "code",
        "colab": {
          "base_uri": "https://localhost:8080/",
          "height": 51
        },
        "outputId": "4837ac24-5cbb-45ce-bcb3-66f5155055d4"
      },
      "source": [
        "# mounting the google drive \n",
        "# set the dirrectory to the location i wanted\n",
        "# relative path so shld work\n",
        "# since the cwd is now set to the this folder, we can import item from there\n",
        "from google.colab import drive\n",
        "drive.mount('/content/drive')\n",
        "%cd './drive/My Drive/Colab Notebooks'"
      ],
      "execution_count": 14,
      "outputs": [
        {
          "output_type": "stream",
          "text": [
            "Drive already mounted at /content/drive; to attempt to forcibly remount, call drive.mount(\"/content/drive\", force_remount=True).\n",
            "/content/drive/My Drive/Colab Notebooks\n"
          ],
          "name": "stdout"
        }
      ]
    },
    {
      "cell_type": "code",
      "metadata": {
        "colab_type": "code",
        "id": "2MzassySpCDr",
        "scrolled": true,
        "colab": {}
      },
      "source": [
        "# add a path to '/content/drive/My Drive/My python files/lib'\n",
        "# as i store the self use py files\n",
        "\n",
        "import sys\n",
        "sys.path.append(str(Path(Path.cwd().parent,'My python files/lib')))"
      ],
      "execution_count": 35,
      "outputs": []
    },
    {
      "cell_type": "code",
      "metadata": {
        "id": "OW6W3ly7KXzp",
        "colab_type": "code",
        "colab": {
          "base_uri": "https://localhost:8080/",
          "height": 34
        },
        "outputId": "acdf73ab-a21a-465e-f347-a724fd38362b"
      },
      "source": [
        "from pathlib import Path\n",
        "Path(Path.cwd().parent,'My python files/lib')"
      ],
      "execution_count": 32,
      "outputs": [
        {
          "output_type": "execute_result",
          "data": {
            "text/plain": [
              "PosixPath('/content/drive/My Drive/My python files/lib')"
            ]
          },
          "metadata": {
            "tags": []
          },
          "execution_count": 32
        }
      ]
    },
    {
      "cell_type": "code",
      "metadata": {
        "id": "qh2B8ZV7CKQH",
        "colab_type": "code",
        "colab": {
          "base_uri": "https://localhost:8080/",
          "height": 119
        },
        "outputId": "224e7f99-4f6b-410e-c5ab-7205bfbfb4bb"
      },
      "source": [
        "import os\n",
        "os.listdir(Path(Path.cwd().parent,'My python files/lib'))"
      ],
      "execution_count": 33,
      "outputs": [
        {
          "output_type": "execute_result",
          "data": {
            "text/plain": [
              "['johansen.py',\n",
              " 'Pickle.py',\n",
              " 'stock_get.py',\n",
              " 'A_st.py',\n",
              " 'Forex_pair.py',\n",
              " '__pycache__']"
            ]
          },
          "metadata": {
            "tags": []
          },
          "execution_count": 33
        }
      ]
    },
    {
      "cell_type": "code",
      "metadata": {
        "colab_type": "code",
        "id": "a7bbPxy4QNpm",
        "colab": {
          "base_uri": "https://localhost:8080/",
          "height": 34
        },
        "outputId": "e74cdf2c-cc78-4cc5-b254-6cee69f74ea6"
      },
      "source": [
        "import pathlib\n",
        "from pathlib import\n",
        "pathlib.Path.cwd()"
      ],
      "execution_count": 15,
      "outputs": [
        {
          "output_type": "execute_result",
          "data": {
            "text/plain": [
              "PosixPath('/content/drive/My Drive/Colab Notebooks')"
            ]
          },
          "metadata": {
            "tags": []
          },
          "execution_count": 15
        }
      ]
    },
    {
      "cell_type": "code",
      "metadata": {
        "id": "lrFqsGTZIsTi",
        "colab_type": "code",
        "colab": {
          "base_uri": "https://localhost:8080/",
          "height": 221
        },
        "outputId": "f3c2be35-a698-4284-ed5b-6b66e036892c"
      },
      "source": [
        "sys.path"
      ],
      "execution_count": 37,
      "outputs": [
        {
          "output_type": "execute_result",
          "data": {
            "text/plain": [
              "['./content/drive/My Drive/My python files/lib',\n",
              " '',\n",
              " '/env/python',\n",
              " '/usr/lib/python36.zip',\n",
              " '/usr/lib/python3.6',\n",
              " '/usr/lib/python3.6/lib-dynload',\n",
              " '/usr/local/lib/python3.6/dist-packages',\n",
              " '/usr/lib/python3/dist-packages',\n",
              " '/usr/local/lib/python3.6/dist-packages/IPython/extensions',\n",
              " '/root/.ipython',\n",
              " './content/drive/My Drive/My python files/lib',\n",
              " '/content/drive/My Drive/My python files/lib']"
            ]
          },
          "metadata": {
            "tags": []
          },
          "execution_count": 37
        }
      ]
    },
    {
      "cell_type": "code",
      "metadata": {
        "id": "-DLbbNIQHdE9",
        "colab_type": "code",
        "colab": {}
      },
      "source": [
        "import stock_get"
      ],
      "execution_count": 38,
      "outputs": []
    },
    {
      "cell_type": "markdown",
      "metadata": {
        "id": "cHso1FuOGPw0",
        "colab_type": "text"
      },
      "source": [
        "# New Section"
      ]
    },
    {
      "cell_type": "code",
      "metadata": {
        "colab_type": "code",
        "id": "imjPaeRfom7f",
        "scrolled": false,
        "colab": {
          "base_uri": "https://localhost:8080/",
          "height": 408
        },
        "outputId": "4a7035a4-f523-462c-d36d-f6fbc4dbb7fe"
      },
      "source": [
        "!pip install git+https://github.com/ryar001/BT-package-test\n"
      ],
      "execution_count": null,
      "outputs": [
        {
          "output_type": "stream",
          "text": [
            "Collecting git+https://github.com/ryar001/BT-package-test\n",
            "  Cloning https://github.com/ryar001/BT-package-test to c:\\users\\runmi\\appdata\\local\\temp\\pip-req-build-dfcouzvo\n"
          ],
          "name": "stdout"
        },
        {
          "output_type": "stream",
          "text": [
            "  Running command git clone -q https://github.com/ryar001/BT-package-test 'C:\\Users\\runmi\\AppData\\Local\\Temp\\pip-req-build-dfcouzvo'\n",
            "  ERROR: Error [WinError 2] The system cannot find the file specified while executing command git clone -q https://github.com/ryar001/BT-package-test 'C:\\Users\\runmi\\AppData\\Local\\Temp\\pip-req-build-dfcouzvo'\n",
            "ERROR: Cannot find command 'git' - do you have 'git' installed and in your PATH?\n"
          ],
          "name": "stderr"
        }
      ]
    },
    {
      "cell_type": "code",
      "metadata": {
        "colab_type": "code",
        "id": "hJJN1clEfE5A",
        "colab": {
          "base_uri": "https://localhost:8080/",
          "height": 367
        },
        "outputId": "ad1a3fe3-f0fa-4aaa-f105-3c952202ae11"
      },
      "source": [
        "from backtesting import Backtest, Strategy\n",
        "from backtesting.lib import crossover\n",
        "\n",
        "from backtesting.test import SMA, SPY\n",
        "\n",
        "\n",
        "class SmaCross(Strategy):\n",
        "    def init(self):\n",
        "        Close = self.data.Close\n",
        "        self.ma1 = self.I(SMA, Close, 10)\n",
        "        self.ma2 = self.I(SMA, Close, 20)\n",
        "\n",
        "    def next(self):\n",
        "        if crossover(self.ma1, self.ma2):\n",
        "            self.buy()\n",
        "        elif crossover(self.ma2, self.ma1):\n",
        "            self.sell()\n",
        "\n",
        "\n",
        "bt = Backtest(GOOG, SmaCross,\n",
        "              cash=10000, commission=.002)\n",
        "bt.run()\n",
        "bt.plot()"
      ],
      "execution_count": null,
      "outputs": [
        {
          "output_type": "error",
          "ename": "ImportError",
          "evalue": "ignored",
          "traceback": [
            "\u001b[0;31m---------------------------------------------------------------------------\u001b[0m",
            "\u001b[0;31mImportError\u001b[0m                               Traceback (most recent call last)",
            "\u001b[0;32m<ipython-input-14-b253551f8ceb>\u001b[0m in \u001b[0;36m<module>\u001b[0;34m()\u001b[0m\n\u001b[1;32m      2\u001b[0m \u001b[0;32mfrom\u001b[0m \u001b[0mbacktesting\u001b[0m\u001b[0;34m.\u001b[0m\u001b[0mlib\u001b[0m \u001b[0;32mimport\u001b[0m \u001b[0mcrossover\u001b[0m\u001b[0;34m\u001b[0m\u001b[0;34m\u001b[0m\u001b[0m\n\u001b[1;32m      3\u001b[0m \u001b[0;34m\u001b[0m\u001b[0m\n\u001b[0;32m----> 4\u001b[0;31m \u001b[0;32mfrom\u001b[0m \u001b[0mbacktesting\u001b[0m\u001b[0;34m.\u001b[0m\u001b[0mtest\u001b[0m \u001b[0;32mimport\u001b[0m \u001b[0mSMA\u001b[0m\u001b[0;34m,\u001b[0m \u001b[0mSPY\u001b[0m\u001b[0;34m\u001b[0m\u001b[0;34m\u001b[0m\u001b[0m\n\u001b[0m\u001b[1;32m      5\u001b[0m \u001b[0;34m\u001b[0m\u001b[0m\n\u001b[1;32m      6\u001b[0m \u001b[0;34m\u001b[0m\u001b[0m\n",
            "\u001b[0;31mImportError\u001b[0m: cannot import name 'SPY'",
            "",
            "\u001b[0;31m---------------------------------------------------------------------------\u001b[0;32m\nNOTE: If your import is failing due to a missing package, you can\nmanually install dependencies using either !pip or !apt.\n\nTo view examples of installing some common dependencies, click the\n\"Open Examples\" button below.\n\u001b[0;31m---------------------------------------------------------------------------\u001b[0m\n"
          ]
        }
      ]
    },
    {
      "cell_type": "markdown",
      "metadata": {
        "colab_type": "text",
        "id": "5ZYMVKASgHHL"
      },
      "source": [
        ""
      ]
    },
    {
      "cell_type": "code",
      "metadata": {
        "colab_type": "code",
        "id": "ss8WNvjOfyiA",
        "colab": {
          "base_uri": "https://localhost:8080/",
          "height": 163
        },
        "outputId": "bd3cf8a7-6a4f-45d6-ab81-18fad5d874c0"
      },
      "source": [
        "tyututy"
      ],
      "execution_count": null,
      "outputs": [
        {
          "output_type": "error",
          "ename": "NameError",
          "evalue": "ignored",
          "traceback": [
            "\u001b[0;31m---------------------------------------------------------------------------\u001b[0m",
            "\u001b[0;31mNameError\u001b[0m                                 Traceback (most recent call last)",
            "\u001b[0;32m<ipython-input-3-c2afc968d281>\u001b[0m in \u001b[0;36m<module>\u001b[0;34m()\u001b[0m\n\u001b[0;32m----> 1\u001b[0;31m \u001b[0mtyututy\u001b[0m\u001b[0;34m\u001b[0m\u001b[0;34m\u001b[0m\u001b[0m\n\u001b[0m",
            "\u001b[0;31mNameError\u001b[0m: name 'tyututy' is not defined"
          ]
        }
      ]
    },
    {
      "cell_type": "code",
      "metadata": {
        "colab_type": "code",
        "id": "ZrZG4RbHgdOR",
        "colab": {}
      },
      "source": [
        ""
      ],
      "execution_count": null,
      "outputs": []
    }
  ]
}